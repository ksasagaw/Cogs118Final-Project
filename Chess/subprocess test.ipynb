{
 "cells": [
  {
   "cell_type": "code",
   "execution_count": 2,
   "metadata": {},
   "outputs": [],
   "source": [
    "import subprocess\n",
    "import os\n",
    "import time\n",
    "import string"
   ]
  },
  {
   "cell_type": "code",
   "execution_count": 6,
   "metadata": {
    "scrolled": true
   },
   "outputs": [
    {
     "ename": "FileNotFoundError",
     "evalue": "[Errno 2] No such file or directory: '\\\\~/Chess/Stockfish/src': '\\\\~/Chess/Stockfish/src'",
     "output_type": "error",
     "traceback": [
      "\u001b[0;31m---------------------------------------------------------------------------\u001b[0m",
      "\u001b[0;31mFileNotFoundError\u001b[0m                         Traceback (most recent call last)",
      "\u001b[0;32m<ipython-input-6-b021137cfe2c>\u001b[0m in \u001b[0;36m<module>\u001b[0;34m\u001b[0m\n\u001b[1;32m     10\u001b[0m \u001b[0msubprocess\u001b[0m\u001b[0;34m.\u001b[0m\u001b[0mrun\u001b[0m\u001b[0;34m(\u001b[0m\u001b[0;34m\"./pgn-extract -Wlalg ~/Chess/test_pgn.txt\"\u001b[0m\u001b[0;34m,\u001b[0m \u001b[0mshell\u001b[0m \u001b[0;34m=\u001b[0m \u001b[0;32mTrue\u001b[0m\u001b[0;34m,\u001b[0m \u001b[0mcwd\u001b[0m  \u001b[0;34m=\u001b[0m \u001b[0;34m\"/home/ksasagaw/Chess/pgn-extract\"\u001b[0m\u001b[0;34m,\u001b[0m \u001b[0mcapture_output\u001b[0m\u001b[0;34m=\u001b[0m\u001b[0;32mTrue\u001b[0m\u001b[0;34m)\u001b[0m\u001b[0;34m\u001b[0m\u001b[0;34m\u001b[0m\u001b[0m\n\u001b[1;32m     11\u001b[0m \u001b[0;34m\u001b[0m\u001b[0m\n\u001b[0;32m---> 12\u001b[0;31m \u001b[0ma\u001b[0m \u001b[0;34m=\u001b[0m \u001b[0msubprocess\u001b[0m\u001b[0;34m.\u001b[0m\u001b[0mPopen\u001b[0m\u001b[0;34m(\u001b[0m\u001b[0;34m\"./stockfish\"\u001b[0m\u001b[0;34m,\u001b[0m \u001b[0mcwd\u001b[0m \u001b[0;34m=\u001b[0m \u001b[0;34m\"\\~/Chess/Stockfish/src\"\u001b[0m\u001b[0;34m,\u001b[0m \u001b[0mshell\u001b[0m \u001b[0;34m=\u001b[0m \u001b[0;32mTrue\u001b[0m\u001b[0;34m,\u001b[0m \u001b[0mstdin\u001b[0m\u001b[0;34m=\u001b[0m\u001b[0msubprocess\u001b[0m\u001b[0;34m.\u001b[0m\u001b[0mPIPE\u001b[0m\u001b[0;34m,\u001b[0m \u001b[0mstdout\u001b[0m\u001b[0;34m=\u001b[0m\u001b[0msubprocess\u001b[0m\u001b[0;34m.\u001b[0m\u001b[0mPIPE\u001b[0m\u001b[0;34m)\u001b[0m\u001b[0;34m\u001b[0m\u001b[0;34m\u001b[0m\u001b[0m\n\u001b[0m\u001b[1;32m     13\u001b[0m \u001b[0ma\u001b[0m\u001b[0;34m.\u001b[0m\u001b[0mstdin\u001b[0m\u001b[0;34m.\u001b[0m\u001b[0mwrite\u001b[0m\u001b[0;34m(\u001b[0m\u001b[0;34m'uci\\n'\u001b[0m\u001b[0;34m.\u001b[0m\u001b[0mencode\u001b[0m\u001b[0;34m(\u001b[0m\u001b[0;34m)\u001b[0m\u001b[0;34m)\u001b[0m\u001b[0;34m\u001b[0m\u001b[0;34m\u001b[0m\u001b[0m\n\u001b[1;32m     14\u001b[0m \u001b[0ma\u001b[0m\u001b[0;34m.\u001b[0m\u001b[0mstdin\u001b[0m\u001b[0;34m.\u001b[0m\u001b[0mflush\u001b[0m\u001b[0;34m(\u001b[0m\u001b[0;34m)\u001b[0m\u001b[0;34m\u001b[0m\u001b[0;34m\u001b[0m\u001b[0m\n",
      "\u001b[0;32m/opt/conda/lib/python3.7/subprocess.py\u001b[0m in \u001b[0;36m__init__\u001b[0;34m(self, args, bufsize, executable, stdin, stdout, stderr, preexec_fn, close_fds, shell, cwd, env, universal_newlines, startupinfo, creationflags, restore_signals, start_new_session, pass_fds, encoding, errors, text)\u001b[0m\n\u001b[1;32m    773\u001b[0m                                 \u001b[0mc2pread\u001b[0m\u001b[0;34m,\u001b[0m \u001b[0mc2pwrite\u001b[0m\u001b[0;34m,\u001b[0m\u001b[0;34m\u001b[0m\u001b[0;34m\u001b[0m\u001b[0m\n\u001b[1;32m    774\u001b[0m                                 \u001b[0merrread\u001b[0m\u001b[0;34m,\u001b[0m \u001b[0merrwrite\u001b[0m\u001b[0;34m,\u001b[0m\u001b[0;34m\u001b[0m\u001b[0;34m\u001b[0m\u001b[0m\n\u001b[0;32m--> 775\u001b[0;31m                                 restore_signals, start_new_session)\n\u001b[0m\u001b[1;32m    776\u001b[0m         \u001b[0;32mexcept\u001b[0m\u001b[0;34m:\u001b[0m\u001b[0;34m\u001b[0m\u001b[0;34m\u001b[0m\u001b[0m\n\u001b[1;32m    777\u001b[0m             \u001b[0;31m# Cleanup if the child failed starting.\u001b[0m\u001b[0;34m\u001b[0m\u001b[0;34m\u001b[0m\u001b[0;34m\u001b[0m\u001b[0m\n",
      "\u001b[0;32m/opt/conda/lib/python3.7/subprocess.py\u001b[0m in \u001b[0;36m_execute_child\u001b[0;34m(self, args, executable, preexec_fn, close_fds, pass_fds, cwd, env, startupinfo, creationflags, shell, p2cread, p2cwrite, c2pread, c2pwrite, errread, errwrite, restore_signals, start_new_session)\u001b[0m\n\u001b[1;32m   1520\u001b[0m                         \u001b[0;32mif\u001b[0m \u001b[0merrno_num\u001b[0m \u001b[0;34m==\u001b[0m \u001b[0merrno\u001b[0m\u001b[0;34m.\u001b[0m\u001b[0mENOENT\u001b[0m\u001b[0;34m:\u001b[0m\u001b[0;34m\u001b[0m\u001b[0;34m\u001b[0m\u001b[0m\n\u001b[1;32m   1521\u001b[0m                             \u001b[0merr_msg\u001b[0m \u001b[0;34m+=\u001b[0m \u001b[0;34m': '\u001b[0m \u001b[0;34m+\u001b[0m \u001b[0mrepr\u001b[0m\u001b[0;34m(\u001b[0m\u001b[0merr_filename\u001b[0m\u001b[0;34m)\u001b[0m\u001b[0;34m\u001b[0m\u001b[0;34m\u001b[0m\u001b[0m\n\u001b[0;32m-> 1522\u001b[0;31m                     \u001b[0;32mraise\u001b[0m \u001b[0mchild_exception_type\u001b[0m\u001b[0;34m(\u001b[0m\u001b[0merrno_num\u001b[0m\u001b[0;34m,\u001b[0m \u001b[0merr_msg\u001b[0m\u001b[0;34m,\u001b[0m \u001b[0merr_filename\u001b[0m\u001b[0;34m)\u001b[0m\u001b[0;34m\u001b[0m\u001b[0;34m\u001b[0m\u001b[0m\n\u001b[0m\u001b[1;32m   1523\u001b[0m                 \u001b[0;32mraise\u001b[0m \u001b[0mchild_exception_type\u001b[0m\u001b[0;34m(\u001b[0m\u001b[0merr_msg\u001b[0m\u001b[0;34m)\u001b[0m\u001b[0;34m\u001b[0m\u001b[0;34m\u001b[0m\u001b[0m\n\u001b[1;32m   1524\u001b[0m \u001b[0;34m\u001b[0m\u001b[0m\n",
      "\u001b[0;31mFileNotFoundError\u001b[0m: [Errno 2] No such file or directory: '\\\\~/Chess/Stockfish/src': '\\\\~/Chess/Stockfish/src'"
     ]
    }
   ],
   "source": [
    "'''os.getcwd()\n",
    "subprocess.run([\"make\", 'help'], cwd = \"/home/ksasagaw/Chess/Stockfish/src\")\n",
    "subprocess.run([\"./stockfish\", \"uci\"], cwd = \"~/Chess/Stockfish/src\", capture_output=True)\n",
    "subprocess.run([\"./stockfish\", \"position\", \"startposition\", \"moves\", \"d4\", \"Nc6\", \"e4\", \"e5\"], cwd = \"/home/ksasagaw/Chess/Stockfish/src\", capture_output=True,shell=True)'''\n",
    "\n",
    "#temp = subprocess.Popen(\"/bin/bash\", stdout=subprocess.PIPE, stderr=subprocess.PIPE, shell=True)\n",
    "#print(temp.communicate(\"./stockfish uci\"))\n",
    "\n",
    "#subprocess.run(\"./stockfish\", cwd  = \"/home/ksasagaw/Chess/Stockfish/src\")\n",
    "subprocess.run(\"./pgn-extract -Wlalg ~/Chess/test_pgn.txt\", shell = True, cwd  = \"/home/ksasagaw/Chess/pgn-extract\", capture_output=True)\n",
    "\n",
    "a = subprocess.Popen(\"./stockfish\", cwd = \"~/Chess/Stockfish/src\", shell = True, stdin=subprocess.PIPE, stdout=subprocess.PIPE)\n",
    "a.stdin.write('uci\\n'.encode())\n",
    "a.stdin.flush()\n",
    "a.stdin.write('isready\\n'.encode())\n",
    "a.stdin.flush()\n",
    "a.stdin.write('position startpos moves e4 e5 Bb5 c6 Bc4 d5 Bd3 dxe4 Bxe4 Nf6 Nc3 Bb4 Qf3 Bxc3 bxc3 Nbd7 Bxh7 Nxh7 Nh3 Ng5 Nxg5 Qxg5 O-O Qf6 Qg3 Qg6 Qf3 Qxc2 Qg4 g6 a4 Nc5 Qc4 Nd3 h3 Nxc1 Rfxc1 Qf5 d4 Qe6 Qd3 exd4 Qxd4 Qd7 Qxh8+ Ke7 Re1+\\n'.encode())\n",
    "a.stdin.flush()\n",
    "a.stdin.write('go depth 20\\n'.encode())\n",
    "a.stdin.flush()\n",
    "for x in range(1,30):\n",
    "    print(a.stdout.readline())\n",
    "#save all go output to a, b = readline(), \n",
    "s1, s2 = '',''\n",
    "while('bestmove' not in s2):\n",
    "    time.sleep(.1)\n",
    "    s1 = s2\n",
    "    s2 = str(a.stdout.readline())\n",
    "    print(s2)\n",
    "print(s1, s2)\n",
    "#read until b contains bestmove\n",
    "#parse a for move b\n",
    "#return score of b"
   ]
  },
  {
   "cell_type": "code",
   "execution_count": 4,
   "metadata": {},
   "outputs": [
    {
     "name": "stdout",
     "output_type": "stream",
     "text": [
      "Score: PovScore(Cp(+40), WHITE)\n",
      "Score: PovScore(Mate(+1), WHITE)\n"
     ]
    }
   ],
   "source": [
    "import chess\n",
    "import chess.engine\n",
    "\n",
    "engine = chess.engine.SimpleEngine.popen_uci(\"/home/ksasagaw/Chess/Stockfish/src/stockfish\")\n",
    "\n",
    "board = chess.Board()\n",
    "info = engine.analyse(board, chess.engine.Limit(time=0.1))\n",
    "print(\"Score:\", info[\"score\"])\n",
    "# Score: PovScore(Cp(+20), WHITE)\n",
    "\n",
    "board = chess.Board(\"r1bqkbnr/p1pp1ppp/1pn5/4p3/2B1P3/5Q2/PPPP1PPP/RNB1K1NR w KQkq - 2 4\")\n",
    "info = engine.analyse(board, chess.engine.Limit(depth=20))\n",
    "print(\"Score:\", info[\"score\"])\n",
    "# Score: PovScore(Mate(+1), WHITE)\n",
    "\n",
    "engine.quit()\n",
    "\n",
    "#takes too long and is trash"
   ]
  },
  {
   "cell_type": "code",
   "execution_count": 21,
   "metadata": {},
   "outputs": [
    {
     "data": {
      "text/plain": [
       "CompletedProcess(args='./stockfish uci', returncode=127, stdout=b'/bin/sh: 1: ./stockfish: not found\\n')"
      ]
     },
     "execution_count": 21,
     "metadata": {},
     "output_type": "execute_result"
    }
   ],
   "source": [
    "result = subprocess.run('echo Hello ; echo World', shell=True, stdout=subprocess.PIPE, stderr=subprocess.STDOUT)\n",
    "result\n",
    "result = subprocess.run('./stockfish uci', shell=True, stdout=subprocess.PIPE, stderr=subprocess.STDOUT,)\n",
    "result"
   ]
  },
  {
   "cell_type": "code",
   "execution_count": 4,
   "metadata": {},
   "outputs": [
    {
     "data": {
      "text/plain": [
       "58"
      ]
     },
     "execution_count": 4,
     "metadata": {},
     "output_type": "execute_result"
    }
   ],
   "source": [
    "all_letters = string.ascii_letters + \" .,;'-\"\n",
    "n_letters = len(all_letters)\n",
    "n_letters"
   ]
  }
 ],
 "metadata": {
  "kernelspec": {
   "display_name": "Python 3",
   "language": "python",
   "name": "python3"
  },
  "language_info": {
   "codemirror_mode": {
    "name": "ipython",
    "version": 3
   },
   "file_extension": ".py",
   "mimetype": "text/x-python",
   "name": "python",
   "nbconvert_exporter": "python",
   "pygments_lexer": "ipython3",
   "version": "3.7.3"
  }
 },
 "nbformat": 4,
 "nbformat_minor": 2
}
